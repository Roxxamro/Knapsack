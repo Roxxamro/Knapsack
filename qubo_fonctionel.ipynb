{
 "cells": [
  {
   "cell_type": "code",
   "execution_count": 15,
   "metadata": {},
   "outputs": [
    {
     "name": "stdout",
     "output_type": "stream",
     "text": [
      "Meilleure solution: {0: 0, 1: 0, 2: 1, 3: 1, 'slack__0': 1, 'slack__1': 0, 'slack__2': 0, 'slack__3': 0}\n",
      "Meilleure énergie: -11.0\n",
      "Valeur totale: 11\n",
      "Poids total: 9\n"
     ]
    },
    {
     "data": {
      "text/html": [
       "<iframe src=http://127.0.0.1:18000/?problemId=005268e5-8983-4a60-a5fb-74a3983f7dc3 width=\"100%\" height=640></iframe>"
      ],
      "text/plain": [
       "Serving Inspector on http://127.0.0.1:18000/?problemId=005268e5-8983-4a60-a5fb-74a3983f7dc3"
      ]
     },
     "metadata": {},
     "output_type": "display_data"
    },
    {
     "ename": "TypeError",
     "evalue": "string indices must be integers",
     "output_type": "error",
     "traceback": [
      "\u001b[1;31m---------------------------------------------------------------------------\u001b[0m",
      "\u001b[1;31mTypeError\u001b[0m                                 Traceback (most recent call last)",
      "Cell \u001b[1;32mIn[15], line 47\u001b[0m\n\u001b[0;32m     44\u001b[0m \u001b[38;5;66;03m# Afficher l'inspecteur D-Wave\u001b[39;00m\n\u001b[0;32m     45\u001b[0m inspector\u001b[38;5;241m.\u001b[39mshow(response)\n\u001b[1;32m---> 47\u001b[0m num_target_variables \u001b[38;5;241m=\u001b[39m \u001b[43minspector\u001b[49m\u001b[38;5;241;43m.\u001b[39;49m\u001b[43mpush_inspector_data\u001b[49m\u001b[43m(\u001b[49m\u001b[38;5;124;43m'\u001b[39;49m\u001b[38;5;124;43mNUMBER OF TARGET VARIABLES\u001b[39;49m\u001b[38;5;124;43m'\u001b[39;49m\u001b[43m)\u001b[49m\n\u001b[0;32m     48\u001b[0m \u001b[38;5;28mprint\u001b[39m(\u001b[38;5;124m\"\u001b[39m\u001b[38;5;124mNombre de variables cibles :\u001b[39m\u001b[38;5;124m\"\u001b[39m, num_target_variables)\n",
      "File \u001b[1;32mc:\\Users\\quent\\AppData\\Local\\Programs\\Python\\Python310\\lib\\site-packages\\dwave\\inspector\\storage.py:38\u001b[0m, in \u001b[0;36mpush_inspector_data\u001b[1;34m(data)\u001b[0m\n\u001b[0;32m     36\u001b[0m \u001b[38;5;28;01mdef\u001b[39;00m \u001b[38;5;21mpush_inspector_data\u001b[39m(data):\n\u001b[0;32m     37\u001b[0m     \u001b[38;5;66;03m# push solver\u001b[39;00m\n\u001b[1;32m---> 38\u001b[0m     add_solver(\u001b[43mdata\u001b[49m\u001b[43m[\u001b[49m\u001b[38;5;124;43m'\u001b[39;49m\u001b[38;5;124;43mrel\u001b[39;49m\u001b[38;5;124;43m'\u001b[39;49m\u001b[43m]\u001b[49m[\u001b[38;5;124m'\u001b[39m\u001b[38;5;124msolver\u001b[39m\u001b[38;5;124m'\u001b[39m])\n\u001b[0;32m     39\u001b[0m     \u001b[38;5;28;01mdel\u001b[39;00m data[\u001b[38;5;124m'\u001b[39m\u001b[38;5;124mrel\u001b[39m\u001b[38;5;124m'\u001b[39m]\n\u001b[0;32m     41\u001b[0m     \u001b[38;5;66;03m# push problem data\u001b[39;00m\n",
      "\u001b[1;31mTypeError\u001b[0m: string indices must be integers"
     ]
    }
   ],
   "source": [
    "import pandas as pd\n",
    "from dimod import BinaryQuadraticModel\n",
    "from dwave.system.composites import EmbeddingComposite\n",
    "from dwave.system.samplers import DWaveSampler\n",
    "import dwave.inspector as inspector\n",
    "\n",
    "# Lire le fichier CSV avec un délimiteur de point-virgule\n",
    "data = pd.read_csv('Qubo_4valeurs.csv', delimiter=';')\n",
    "\n",
    "# Extraire les colonnes de poids et de valeurs\n",
    "values = data.iloc[:, 0].values\n",
    "weights = data.iloc[:, 1].values\n",
    "\n",
    "# CALCUL DU POIDS TOTAL MAXIMUM\n",
    "max_weight = 0\n",
    "for i in range(len(weights)):\n",
    "    max_weight += weights[i]\n",
    "\n",
    "# Créer un modèle quadratique binaire\n",
    "bqm = BinaryQuadraticModel('BINARY')\n",
    "\n",
    "# Ajouter les variables binaires au modèle\n",
    "for i in range(len(values)):\n",
    "    bqm.add_variable(i, -values[i])\n",
    "\n",
    "# Ajouter une contrainte linéaire\n",
    "bqm.add_linear_inequality_constraint(\n",
    "    [(i, weight) for i, weight in enumerate(weights)], constant=0, lagrange_multiplier=max_weight, ub=10, lb=0, label='')\n",
    "\n",
    "\n",
    "\n",
    "# Utiliser un sampler D-Wave\n",
    "sampler = EmbeddingComposite(DWaveSampler())\n",
    "response = sampler.sample(bqm, num_reads=1000)\n",
    "\n",
    "# Afficher les résultats\n",
    "best_solution = response.first.sample\n",
    "best_energy = response.first.energy\n",
    "\n",
    "print(\"Meilleure solution:\", best_solution)\n",
    "print(\"Meilleure énergie:\", best_energy)\n",
    "\n",
    "# Afficher la valeur totale et le poids total de la meilleure solution\n",
    "total_value = sum(values[i] for i in range(len(values)) if best_solution[i] == 1)\n",
    "total_weight = sum(weights[i] for i in range(len(values)) if best_solution[i] == 1)\n",
    "print(\"Valeur totale:\", total_value)\n",
    "print(\"Poids total:\", total_weight)\n",
    "\n",
    "# Afficher l'inspecteur D-Wave\n",
    "inspector.show(response)\n",
    "\n",
    "\n",
    "\n"
   ]
  }
 ],
 "metadata": {
  "kernelspec": {
   "display_name": "Python 3",
   "language": "python",
   "name": "python3"
  },
  "language_info": {
   "codemirror_mode": {
    "name": "ipython",
    "version": 3
   },
   "file_extension": ".py",
   "mimetype": "text/x-python",
   "name": "python",
   "nbconvert_exporter": "python",
   "pygments_lexer": "ipython3",
   "version": "3.10.6"
  }
 },
 "nbformat": 4,
 "nbformat_minor": 2
}
